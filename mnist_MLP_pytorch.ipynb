{
 "cells": [
  {
   "cell_type": "markdown",
   "metadata": {},
   "source": [
    "# Convolutional Neural Network "
   ]
  },
  {
   "cell_type": "markdown",
   "metadata": {},
   "source": [
    "**Notebook Content**\n",
    "1. [MLP for MNIST](#s1)\n",
    "2. Creating a Filter for Edges\n",
    "3.\n",
    "4.\n"
   ]
  },
  {
   "cell_type": "markdown",
   "metadata": {},
   "source": [
    "White close to 255, Dark close to 0. <br>\n",
    "\n",
    "This MNIST data has gone through a pre-processing. They are rescaled such that pixel value is from 0 to 1\n",
    "\n",
    "To Normalize => x /255\n",
    "\n",
    "Normaly we want a Normalization step because Neural Networks rely on Gradient Calculations. Normalizing the pixel values help keep these gradient calculations stay consistent and not get so large that they slow down or prevent a network from training\n",
    "\n",
    "**Normalizing Image Inputs**\n",
    "x-mean / std\n",
    "\n",
    "Sometimes we use approximation by using mean & std of 0.5\n",
    "\n",
    "For image inputs we need the pixel numbers to be positive so we often choose to scale the data in a normalized range of [0,1]\n"
   ]
  },
  {
   "cell_type": "markdown",
   "metadata": {},
   "source": [
    "<a id = 's1' ></a>\n",
    "## Multi Layer Perceptron for MNIST\n",
    "---"
   ]
  },
  {
   "cell_type": "markdown",
   "metadata": {},
   "source": [
    "Process\n",
    "> 1. Load & Visualize the data\n",
    "> 2. Define Neural Network\n",
    "> 3. Train the model\n",
    "> 4. Evaluate the performance of model on test dataset"
   ]
  },
  {
   "cell_type": "markdown",
   "metadata": {},
   "source": [
    "### Load Libraries"
   ]
  },
  {
   "cell_type": "code",
   "execution_count": 2,
   "metadata": {},
   "outputs": [],
   "source": [
    "import numpy as np\n",
    "import torch\n",
    "from torch import nn, optim\n",
    "import torch.nn.functional as F\n",
    "from torchvision import datasets, transforms\n",
    "from torch.utils.data import DataLoader\n",
    "from torch.utils.data.sampler import SubsetRandomSampler\n",
    "import matplotlib.pyplot as plt\n",
    "%matplotlib inline"
   ]
  },
  {
   "cell_type": "markdown",
   "metadata": {},
   "source": [
    "### Load the data  - Training, Validation & Test Dataset "
   ]
  },
  {
   "cell_type": "code",
   "execution_count": 11,
   "metadata": {},
   "outputs": [],
   "source": [
    "# Load the data  -- Create Training, Validation & Test Datasets\n",
    "\n",
    "transform = transforms.ToTensor()\n",
    "\n",
    "train_data = datasets.MNIST ( 'MNIST_data', train = True, transform = transform, download = True)\n",
    "\n",
    "test_data = datasets.MNIST ('MNIST_data', train = False, transform = transform, download = True)\n",
    "\n",
    "# we need a split point to separate between training dataset and validation dataset. \n",
    "# Simply we can just keep first 80% for Training and last 20% for Validation\n",
    "train_size, valid_size = 0.8,0.2\n",
    "len_dataset = len(train_data)\n",
    "split = int(len_dataset*train_size)\n",
    "train_idx, valid_idx = range(0,split), range(split,len(train_data))\n",
    "train_sampler, valid_sampler = SubsetRandomSampler(train_idx), SubsetRandomSampler(valid_idx)\n",
    "\n",
    "# Now what we can also do is ... shuffle the indices to create random training and validation dataset\n",
    "train_size, valid_size = 0.8, 0.2\n",
    "len_dataset = len(train_data)\n",
    "split = int(len_dataset*train_size)\n",
    "indices = list(range(len_dataset)) # we need indices object as a list \n",
    "np.random.shuffle(indices) # now here i have shuffled the indices\n",
    "train_idx, test_idx = indices[:split], indices[split:]\n",
    "train_sampler, valid_sampler = SubsetRandomSampler(train_idx), SubsetRandomSampler(valid_idx)\n",
    "\n",
    "\n",
    "# prepare dataloaders\n",
    "train_loader = DataLoader(train_data, batch_size = 20, sampler = train_sampler ) # a new sampler argument will be used\n",
    "valid_loader = DataLoader(train_data, batch_size = 20, sampler = valid_sampler ) # a new sampler argument will be used\n",
    "test_loader = DataLoader(test_data, batch_size = 20)"
   ]
  },
  {
   "cell_type": "markdown",
   "metadata": {
    "heading_collapsed": true
   },
   "source": [
    "###  Visualize the data"
   ]
  },
  {
   "cell_type": "code",
   "execution_count": 4,
   "metadata": {
    "hidden": true
   },
   "outputs": [],
   "source": [
    "# Visualize the data\n",
    "\n",
    "# obtain one batch of training images\n",
    "dataiter = iter(train_loader)\n",
    "images, labels = dataiter.next()\n",
    "images = images.numpy() "
   ]
  },
  {
   "cell_type": "code",
   "execution_count": 8,
   "metadata": {
    "collapsed": true,
    "hidden": true
   },
   "outputs": [
    {
     "name": "stdout",
     "output_type": "stream",
     "text": [
      "[[[[0. 0. 0. ... 0. 0. 0.]\n",
      "   [0. 0. 0. ... 0. 0. 0.]\n",
      "   [0. 0. 0. ... 0. 0. 0.]\n",
      "   ...\n",
      "   [0. 0. 0. ... 0. 0. 0.]\n",
      "   [0. 0. 0. ... 0. 0. 0.]\n",
      "   [0. 0. 0. ... 0. 0. 0.]]]\n",
      "\n",
      "\n",
      " [[[0. 0. 0. ... 0. 0. 0.]\n",
      "   [0. 0. 0. ... 0. 0. 0.]\n",
      "   [0. 0. 0. ... 0. 0. 0.]\n",
      "   ...\n",
      "   [0. 0. 0. ... 0. 0. 0.]\n",
      "   [0. 0. 0. ... 0. 0. 0.]\n",
      "   [0. 0. 0. ... 0. 0. 0.]]]\n",
      "\n",
      "\n",
      " [[[0. 0. 0. ... 0. 0. 0.]\n",
      "   [0. 0. 0. ... 0. 0. 0.]\n",
      "   [0. 0. 0. ... 0. 0. 0.]\n",
      "   ...\n",
      "   [0. 0. 0. ... 0. 0. 0.]\n",
      "   [0. 0. 0. ... 0. 0. 0.]\n",
      "   [0. 0. 0. ... 0. 0. 0.]]]\n",
      "\n",
      "\n",
      " ...\n",
      "\n",
      "\n",
      " [[[0. 0. 0. ... 0. 0. 0.]\n",
      "   [0. 0. 0. ... 0. 0. 0.]\n",
      "   [0. 0. 0. ... 0. 0. 0.]\n",
      "   ...\n",
      "   [0. 0. 0. ... 0. 0. 0.]\n",
      "   [0. 0. 0. ... 0. 0. 0.]\n",
      "   [0. 0. 0. ... 0. 0. 0.]]]\n",
      "\n",
      "\n",
      " [[[0. 0. 0. ... 0. 0. 0.]\n",
      "   [0. 0. 0. ... 0. 0. 0.]\n",
      "   [0. 0. 0. ... 0. 0. 0.]\n",
      "   ...\n",
      "   [0. 0. 0. ... 0. 0. 0.]\n",
      "   [0. 0. 0. ... 0. 0. 0.]\n",
      "   [0. 0. 0. ... 0. 0. 0.]]]\n",
      "\n",
      "\n",
      " [[[0. 0. 0. ... 0. 0. 0.]\n",
      "   [0. 0. 0. ... 0. 0. 0.]\n",
      "   [0. 0. 0. ... 0. 0. 0.]\n",
      "   ...\n",
      "   [0. 0. 0. ... 0. 0. 0.]\n",
      "   [0. 0. 0. ... 0. 0. 0.]\n",
      "   [0. 0. 0. ... 0. 0. 0.]]]]\n",
      "tensor([5, 0, 4, 1, 9, 2, 1, 3, 1, 4, 3, 5, 3, 6, 1, 7, 2, 8, 6, 9])\n"
     ]
    }
   ],
   "source": [
    "print (images)\n",
    "print (labels)"
   ]
  },
  {
   "cell_type": "code",
   "execution_count": 7,
   "metadata": {
    "hidden": true
   },
   "outputs": [
    {
     "name": "stdout",
     "output_type": "stream",
     "text": [
      "(1, 28, 28)\n",
      "(28, 28)\n"
     ]
    }
   ],
   "source": [
    "print (images[0].shape)\n",
    "print (np.squeeze(images[0]).shape)"
   ]
  },
  {
   "cell_type": "code",
   "execution_count": 10,
   "metadata": {
    "hidden": true
   },
   "outputs": [
    {
     "data": {
      "image/png": "[encoded data removed]",
      "text/plain": [
       "<Figure size 432x288 with 1 Axes>"
      ]
     },
     "metadata": {
      "needs_background": "light"
     },
     "output_type": "display_data"
    }
   ],
   "source": [
    "# look at one image first  \n",
    "plt.imshow(np.squeeze(images[0]), cmap = 'gray')\n",
    "plt.title(str(labels[0].item()))\n",
    "plt.show()"
   ]
  },
  {
   "cell_type": "code",
   "execution_count": 29,
   "metadata": {
    "hidden": true
   },
   "outputs": [
    {
     "data": {
      "image/png": "[encoded data removed]",
      "text/plain": [
       "<Figure size 1800x432 with 20 Axes>"
      ]
     },
     "metadata": {
      "needs_background": "light"
     },
     "output_type": "display_data"
    }
   ],
   "source": [
    "# Now let's see all the images in the batch at once\n",
    "fig = plt.figure (figsize  = (25, 6) )\n",
    "for idx in range(20):\n",
    "    ax = fig.add_subplot(2, 10, idx+1)\n",
    "    img = np.squeeze(images[idx])\n",
    "    lbl = str( labels[idx].item() )\n",
    "    ax.imshow(img, cmap = 'gray')\n",
    "    ax.set_title( lbl)"
   ]
  },
  {
   "cell_type": "markdown",
   "metadata": {
    "hidden": true
   },
   "source": [
    "**View an image in more details**"
   ]
  },
  {
   "cell_type": "code",
   "execution_count": 30,
   "metadata": {
    "hidden": true
   },
   "outputs": [
    {
     "data": {
      "text/plain": [
       "<matplotlib.image.AxesImage at 0x144c4e48>"
      ]
     },
     "execution_count": 30,
     "metadata": {},
     "output_type": "execute_result"
    },
    {
     "data": {
      "image/png": "[encoded data removed]",
      "text/plain": [
       "<Figure size 432x288 with 1 Axes>"
      ]
     },
     "metadata": {
      "needs_background": "light"
     },
     "output_type": "display_data"
    }
   ],
   "source": [
    "img = np.squeeze(images[1])\n",
    "lbl = str( labels[1].item() )\n",
    "\n",
    "plt.imshow(img, cmap = 'gray')"
   ]
  },
  {
   "cell_type": "markdown",
   "metadata": {},
   "source": [
    "### Define the Network Architecture"
   ]
  },
  {
   "cell_type": "code",
   "execution_count": 16,
   "metadata": {},
   "outputs": [
    {
     "name": "stdout",
     "output_type": "stream",
     "text": [
      "Model(\n",
      "  (fc1): Linear(in_features=784, out_features=256, bias=True)\n",
      "  (fc2): Linear(in_features=256, out_features=64, bias=True)\n",
      "  (fc3): Linear(in_features=64, out_features=10, bias=True)\n",
      "  (dropout): Dropout(p=0.2)\n",
      ")\n"
     ]
    }
   ],
   "source": [
    "# Define the NN Architecture\n",
    "\n",
    "class Model (nn.Module):\n",
    "    def __init__(self):\n",
    "        super().__init__()\n",
    "        self.fc1 = nn.Linear(784, 256)\n",
    "        self.fc2 = nn.Linear(256, 64)\n",
    "        self.fc3 = nn.Linear(64,10)\n",
    "        \n",
    "        self.dropout = nn.Dropout(p=0.2)\n",
    "\n",
    "    def forward(self, x):\n",
    "        x = x.view(-1, 784)\n",
    "        h1 = self.dropout( F.relu( self.fc1(x) ) )\n",
    "        h2 = self.dropout( F.relu( self.fc2(h1) ) )\n",
    "        out = self.fc3(h2)\n",
    "        return out\n",
    "    \n",
    "# Instantate the model\n",
    "model = Model()\n",
    "print (model)"
   ]
  },
  {
   "cell_type": "markdown",
   "metadata": {},
   "source": [
    "### Specify the Loss function and Optimizer "
   ]
  },
  {
   "cell_type": "code",
   "execution_count": 17,
   "metadata": {},
   "outputs": [],
   "source": [
    "loss_fn = nn.CrossEntropyLoss()\n",
    "# Refer to the documentation here to see what CrossEntropyLoss function is doing. \n",
    "# It first computes the SoftMax function on an output layer and then doing Negative Log Loss\n",
    "\n",
    "optimizer = optim.SGD(model.parameters(), lr = 0.001)"
   ]
  },
  {
   "cell_type": "markdown",
   "metadata": {},
   "source": [
    "### Train the Network (calculate Training loss, Validation loss and Test loss)"
   ]
  },
  {
   "cell_type": "code",
   "execution_count": 18,
   "metadata": {},
   "outputs": [
    {
     "name": "stdout",
     "output_type": "stream",
     "text": [
      "\n",
      "Epoch 1/15 Training loss:  5438.900950431824 Validation loss: 1325.2616093158722\n",
      "Validation loss decreased from inf to 1325.2616093158722\n",
      "Saving Model\n",
      "\n",
      "Epoch 2/15 Training loss:  5020.241348385811 Validation loss: 1132.4338146448135\n",
      "Validation loss decreased from 1325.2616093158722 to 1132.4338146448135\n",
      "Saving Model\n",
      "\n",
      "Epoch 3/15 Training loss:  3850.9250228405 Validation loss: 729.1676871180534\n",
      "Validation loss decreased from 1132.4338146448135 to 729.1676871180534\n",
      "Saving Model\n",
      "\n",
      "Epoch 4/15 Training loss:  2599.8952816724777 Validation loss: 483.3228820860386\n",
      "Validation loss decreased from 729.1676871180534 to 483.3228820860386\n",
      "Saving Model\n",
      "\n",
      "Epoch 5/15 Training loss:  1993.5392388403416 Validation loss: 377.19142439961433\n",
      "Validation loss decreased from 483.3228820860386 to 377.19142439961433\n",
      "Saving Model\n",
      "\n",
      "Epoch 6/15 Training loss:  1685.6903761327267 Validation loss: 319.9692426174879\n",
      "Validation loss decreased from 377.19142439961433 to 319.9692426174879\n",
      "Saving Model\n",
      "\n",
      "Epoch 7/15 Training loss:  1489.8661079406738 Validation loss: 283.7453213259578\n",
      "Validation loss decreased from 319.9692426174879 to 283.7453213259578\n",
      "Saving Model\n",
      "\n",
      "Epoch 8/15 Training loss:  1373.1035570055246 Validation loss: 259.50171703100204\n",
      "Validation loss decreased from 283.7453213259578 to 259.50171703100204\n",
      "Saving Model\n",
      "\n",
      "Epoch 9/15 Training loss:  1280.3148296400905 Validation loss: 242.14542668312788\n",
      "Validation loss decreased from 259.50171703100204 to 242.14542668312788\n",
      "Saving Model\n",
      "\n",
      "Epoch 10/15 Training loss:  1199.3734083622694 Validation loss: 228.8701109290123\n",
      "Validation loss decreased from 242.14542668312788 to 228.8701109290123\n",
      "Saving Model\n",
      "\n",
      "Epoch 11/15 Training loss:  1150.3692714124918 Validation loss: 218.12068097293377\n",
      "Validation loss decreased from 228.8701109290123 to 218.12068097293377\n",
      "Saving Model\n",
      "\n",
      "Epoch 12/15 Training loss:  1105.8571602478623 Validation loss: 209.85599353909492\n",
      "Validation loss decreased from 218.12068097293377 to 209.85599353909492\n",
      "Saving Model\n",
      "\n",
      "Epoch 13/15 Training loss:  1066.3412067070603 Validation loss: 201.99936965107918\n",
      "Validation loss decreased from 209.85599353909492 to 201.99936965107918\n",
      "Saving Model\n",
      "\n",
      "Epoch 14/15 Training loss:  1020.8812159448862 Validation loss: 194.72424721717834\n",
      "Validation loss decreased from 201.99936965107918 to 194.72424721717834\n",
      "Saving Model\n",
      "\n",
      "Epoch 15/15 Training loss:  993.0752116963267 Validation loss: 189.1443200968206\n",
      "Validation loss decreased from 194.72424721717834 to 189.1443200968206\n",
      "Saving Model\n"
     ]
    }
   ],
   "source": [
    "# Run the training loop\n",
    "\n",
    "epochs = 15\n",
    "valid_loss_min = np.Inf\n",
    "train_losses, valid_losses = [], []\n",
    "for e in range(epochs):\n",
    "    train_loss, valid_loss = 0.0, 0.0\n",
    "    \n",
    "    model.train() # set model in training mode\n",
    "    for x , y in train_loader:\n",
    "        optimizer.zero_grad()\n",
    "        y_score = model.forward(x)\n",
    "        loss = loss_fn(y_score, y)\n",
    "        loss.backward()\n",
    "        optimizer.step()\n",
    "        \n",
    "        train_loss += loss.item()\n",
    "        \n",
    "        \n",
    "    ## Model Validation\n",
    "    model.eval() # set model in evaluation mode\n",
    "    for xv, yv in valid_loader:\n",
    "        yv_score = model.forward(xv)\n",
    "        loss_v = loss_fn(yv_score, yv)\n",
    "        \n",
    "        valid_loss += loss_v.item()\n",
    "    \n",
    "    train_losses.append(train_loss)\n",
    "    valid_losses.append(valid_loss)\n",
    "    \n",
    "    print ('\\nEpoch {}/{}'.format(e+1, epochs), 'Training loss: ', train_loss, 'Validation loss:', valid_loss)\n",
    "    \n",
    "    if valid_loss < valid_loss_min:\n",
    "        print ('Validation loss decreased from {} to {}'.format(valid_loss_min, valid_loss))\n",
    "        valid_loss_min = valid_loss\n",
    "        # save the model\n",
    "        torch.save(model.state_dict(), 'model.pt')\n",
    "        print ('Saving Model')\n",
    "    \n"
   ]
  },
  {
   "cell_type": "code",
   "execution_count": 19,
   "metadata": {},
   "outputs": [
    {
     "data": {
      "image/png": "[encoded data removed]",
      "text/plain": [
       "<Figure size 432x288 with 1 Axes>"
      ]
     },
     "metadata": {
      "needs_background": "light"
     },
     "output_type": "display_data"
    }
   ],
   "source": [
    "plt.plot(train_losses, label = 'Training Loss')\n",
    "plt.plot(valid_losses, label = 'Validation Loss')\n",
    "plt.legend()\n",
    "plt.show()"
   ]
  },
  {
   "cell_type": "markdown",
   "metadata": {},
   "source": [
    "### Test the Trained Network"
   ]
  },
  {
   "cell_type": "code",
   "execution_count": 23,
   "metadata": {},
   "outputs": [
    {
     "name": "stdout",
     "output_type": "stream",
     "text": [
      "Test Loss:  162.67079252377152\n"
     ]
    }
   ],
   "source": [
    "test_loss = 0.0\n",
    "for xt, yt in test_loader:\n",
    "    yt_score = model.forward(xt)\n",
    "    loss = loss_fn(yt_score, yt)\n",
    "#     batch_size = x_test.size(0)\n",
    "#     avg_batch_loss = loss.item()\n",
    "#     batch_loss = avg_batch_loss * batch_size\n",
    "    test_loss = test_loss + loss.item()\n",
    "\n",
    "print ('Test Loss: ', test_loss)"
   ]
  },
  {
   "cell_type": "code",
   "execution_count": null,
   "metadata": {},
   "outputs": [],
   "source": []
  }
 ],
 "metadata": {
  "kernelspec": {
   "display_name": "Python 3",
   "language": "python",
   "name": "python3"
  },
  "language_info": {
   "codemirror_mode": {
    "name": "ipython",
    "version": 3
   },
   "file_extension": ".py",
   "mimetype": "text/x-python",
   "name": "python",
   "nbconvert_exporter": "python",
   "pygments_lexer": "ipython3",
   "version": "3.6.7"
  }
 },
 "nbformat": 4,
 "nbformat_minor": 2
}
